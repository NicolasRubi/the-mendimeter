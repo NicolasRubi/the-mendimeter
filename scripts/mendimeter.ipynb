{
 "metadata": {
  "language_info": {
   "codemirror_mode": {
    "name": "ipython",
    "version": 3
   },
   "file_extension": ".py",
   "mimetype": "text/x-python",
   "name": "python",
   "nbconvert_exporter": "python",
   "pygments_lexer": "ipython3",
   "version": "3.8.6-final"
  },
  "orig_nbformat": 2,
  "kernelspec": {
   "name": "Python 3.8.6 64-bit ('the-mendimeter-Dr3c5bV7')",
   "display_name": "Python 3.8.6 64-bit ('the-mendimeter-Dr3c5bV7')",
   "metadata": {
    "interpreter": {
     "hash": "53c27d1f03c4af154a2662b21f4cd1fe41f773e863227777eeb814d9e04dcd9d"
    }
   }
  }
 },
 "nbformat": 4,
 "nbformat_minor": 2,
 "cells": [
  {
   "source": [
    "First attempts"
   ],
   "cell_type": "markdown",
   "metadata": {}
  },
  {
   "cell_type": "code",
   "execution_count": null,
   "metadata": {},
   "outputs": [],
   "source": [
    "import cv2 as cv\n",
    "import numpy as np \n",
    "from matplotlib import pyplot as plt\n",
    "\n",
    "cap = cv.VideoCapture(0)\n",
    "\n",
    "while(True):\n",
    "    # Capture frame-by-frame\n",
    "    ret, frame = cap.read()\n",
    "\n",
    "    # Our operations on the frame come here\n",
    "    (rows, cols, _) = frame.shape\n",
    "    nrows = cv.getOptimalDFTSize(rows)\n",
    "    ncols = cv.getOptimalDFTSize(cols)\n",
    "    nimg = np.zeros((nrows,ncols, 3))\n",
    "    nimg[:rows,:cols] = frame\n",
    "\n",
    "    b,g,r = cv.split(nimg)\n",
    "    r_dft = cv.dft(np.float32(b),flags = cv.DFT_COMPLEX_OUTPUT)\n",
    "    r_dft_shift = np.fft.fftshift(r_dft)\n",
    "    r_magnitude_spectrum = 20*np.log(cv.magnitude(r_dft_shift[:,:,0],r_dft_shift[:,:,1]))\n",
    "    plt.subplot(121),plt.imshow(nimg, cmap = 'gray')\n",
    "    plt.title('Input Image'), plt.xticks([]), plt.yticks([])\n",
    "    plt.subplot(122),plt.imshow(r_magnitude_spectrum, cmap = 'gray')\n",
    "    plt.title('Magnitude Spectrum'), plt.xticks([]), plt.yticks([])\n",
    "    plt.show()\n",
    "\n",
    "    # Display the resulting frame\n",
    "    cv.imshow('frame',nimg)\n",
    "    if cv.waitKey(1) & 0xFF == ord('q'):\n",
    "        break\n",
    "\n",
    "# When everything done, release the capture\n",
    "cap.release()\n",
    "cv.destroyAllWindows()"
   ]
  },
  {
   "cell_type": "code",
   "execution_count": null,
   "metadata": {},
   "outputs": [],
   "source": []
  }
 ]
}